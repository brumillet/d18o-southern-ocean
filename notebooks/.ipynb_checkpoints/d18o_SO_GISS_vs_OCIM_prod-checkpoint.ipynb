{
 "cells": [
  {
   "cell_type": "code",
   "execution_count": 1,
   "id": "d523628f",
   "metadata": {},
   "outputs": [],
   "source": [
    "import xarray as xr\n",
    "import numpy as np\n",
    "import pandas as pd\n",
    "import time\n",
    "import matplotlib.pyplot as plt"
   ]
  },
  {
   "cell_type": "code",
   "execution_count": 3,
   "id": "4bbd8984",
   "metadata": {},
   "outputs": [],
   "source": [
    "# to modify based on the data directory\n",
    "root_directory = 'C:/Users/bmillet/Documents/LSCE/Thèse LSCE/GitHub/d18o-southern-ocean'\n",
    "data_path = r'D:/Data/holzer/Holzer_water_mass_fractions.nc'\n",
    "fig_path = '/figures/'"
   ]
  },
  {
   "cell_type": "markdown",
   "id": "f9809e4f",
   "metadata": {},
   "source": [
    "# Can we reconstruct the deep d18o structure of the OCIM product with 5 fractions?"
   ]
  },
  {
   "cell_type": "code",
   "execution_count": 6,
   "id": "9f107b5a",
   "metadata": {},
   "outputs": [],
   "source": [
    "holzer_frac = xr.open_dataset(data_path)\n",
    "l_lat_holz, l_lon_holz, l_depth_holz = holzer_frac['yt'].values, holzer_frac['xt'].values, holzer_frac['zt'].values\n",
    "l_lon_holz3D, l_lat_holz3D = np.meshgrid(l_lon_holz, l_lat_holz)"
   ]
  },
  {
   "cell_type": "code",
   "execution_count": null,
   "id": "449eb261",
   "metadata": {},
   "outputs": [],
   "source": [
    "fig = plt.figure(figsize = (12, 4)); gs = fig.add_gridspec(1, 3, wspace = 0.05); font = 14\n",
    "\n",
    "ilon, ilat = NOf.approx_depth(30, l_lon_holz)[1], NOf.approx_depth(-35, l_lat_holz)[1]\n",
    "ilon2, ilat2 = NOf.approx_depth(200, l_lon_holz)[1], NOf.approx_depth(20, l_lat_holz)[1]\n",
    "ilon3, ilat3 = NOf.approx_depth(160, l_lon_holz)[1], NOf.approx_depth(-55, l_lat_holz)[1]\n",
    "\n",
    "ax = fig.add_subplot(gs[0, 0])\n",
    "ax.plot(holzer_frac['d18o_pre_3d'][:, ilat, ilon].values, l_depth_holz, label = 'OCIM')\n",
    "ax.plot(reconstd_d18o[:, ilat, ilon], l_depth_holz, label = 'Rcstd')\n",
    "ax.set_ylim(5000, 0); ax.set_xlim(-0.4, 0.4)\n",
    "ax.set_xticks([-0.4 + 0.1 * i for i in range(9)]); ax.set_xticklabels(['', '-0.3', '', '-0.1', '', '0.1', '', '0.3', ''], fontsize = font); ax.set_xlabel('$\\delta^{18}O_{sw}$ (‰)', fontsize = font)\n",
    "ax.set_yticks([1000 * i for i in range(6)]); ax.set_yticklabels([i for i in range(6)], fontsize = font); ax.set_ylabel('Depth (km)', fontsize = font)\n",
    "ax.legend(fontsize = font, loc = 'lower right')\n",
    "ax.set_title(str(int(l_lon_holz[ilon])) +'°E, ' + format(l_lat_holz[ilat], '.2f') + '°N', fontsize = font)\n",
    "\n",
    "ax = fig.add_subplot(gs[0, 1])\n",
    "ax.plot(holzer_frac['d18o_pre_3d'][:, ilat2, ilon2].values, l_depth_holz, label = 'OCIM')\n",
    "ax.plot(reconstd_d18o[:, ilat2, ilon2], l_depth_holz, label = 'Rcstd')\n",
    "ax.set_ylim(5000, 0); ax.set_xlim(-0.4, 0.4)\n",
    "ax.set_xticks([-0.4 + 0.1 * i for i in range(9)]); ax.set_xticklabels(['', '-0.3', '', '-0.1', '', '0.1', '', '0.3', ''], fontsize = font); ax.set_xlabel('$\\delta^{18}O_{sw}$ (‰)', fontsize = font)\n",
    "ax.set_yticks([1000 * i for i in range(6)]); ax.set_yticklabels([], fontsize = font)\n",
    "ax.set_title(str(int(l_lon_holz[ilon2])) +'°E, ' + format(l_lat_holz[ilat2], '.2f') + '°N', fontsize = font)\n",
    "\n",
    "ax = fig.add_subplot(gs[0, 2])\n",
    "ax.plot(holzer_frac['d18o_pre_3d'][:, ilat3, ilon3].values, l_depth_holz, label = 'OCIM')\n",
    "ax.plot(reconstd_d18o[:, ilat3, ilon3], l_depth_holz, label = 'Rcstd')\n",
    "ax.set_ylim(5000, 0); ax.set_xlim(-0.4, 0.4)\n",
    "ax.set_xticks([-0.4 + 0.1 * i for i in range(9)]); ax.set_xticklabels(['', '-0.3', '', '-0.1', '', '0.1', '', '0.3', ''], fontsize = font); ax.set_xlabel('$\\delta^{18}O_{sw}$ (‰)', fontsize = font)\n",
    "ax.set_yticks([1000 * i for i in range(6)]); ax.set_yticklabels([], fontsize = font)\n",
    "ax.set_title(str(int(l_lon_holz[ilon3])) +'°E, ' + format(l_lat_holz[ilat3], '.2f') + '°N', fontsize = font)\n",
    "\n",
    "# plt.savefig(r'C:\\Users\\bmillet\\Documents\\LSCE\\Thèse LSCE\\graphs\\d18o_profiles\\seawater\\Giss\\method\\reconstruction_d18o_OCIM.png', bbox_inches = 'tight')"
   ]
  }
 ],
 "metadata": {
  "kernelspec": {
   "display_name": "Python 3 (ipykernel)",
   "language": "python",
   "name": "python3"
  },
  "language_info": {
   "codemirror_mode": {
    "name": "ipython",
    "version": 3
   },
   "file_extension": ".py",
   "mimetype": "text/x-python",
   "name": "python",
   "nbconvert_exporter": "python",
   "pygments_lexer": "ipython3",
   "version": "3.11.9"
  }
 },
 "nbformat": 4,
 "nbformat_minor": 5
}
